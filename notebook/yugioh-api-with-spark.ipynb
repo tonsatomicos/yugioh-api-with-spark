{
 "cells": [
  {
   "cell_type": "markdown",
   "metadata": {},
   "source": [
    "## Importing libraries"
   ]
  },
  {
   "cell_type": "code",
   "execution_count": 3,
   "metadata": {},
   "outputs": [],
   "source": [
    "import requests\n",
    "import os\n",
    "import json\n",
    "\n",
    "from datetime import datetime\n",
    "from pyspark.sql import SparkSession\n",
    "from pyspark.sql.types import StructType, StructField, StringType, IntegerType, StructType, ArrayType, TimestampType\n",
    "\n",
    "%load_ext sparksql_magic"
   ]
  },
  {
   "cell_type": "markdown",
   "metadata": {},
   "source": [
    "## Getting data from API"
   ]
  },
  {
   "cell_type": "code",
   "execution_count": 3,
   "metadata": {},
   "outputs": [],
   "source": [
    "start_date = '2000-01-01'\n",
    "end_date = '2024-08-03'\n",
    "\n",
    "def get_endpoint(start_date, end_date):\n",
    "    url = f'https://db.ygoprodeck.com/api/v7/cardinfo.php?&startdate={start_date}&enddate={end_date}'\n",
    "    resp = requests.get(url)\n",
    "    \n",
    "    if resp.status_code == 200:\n",
    "        return resp.json()"
   ]
  },
  {
   "cell_type": "code",
   "execution_count": 4,
   "metadata": {},
   "outputs": [],
   "source": [
    "data = get_endpoint(start_date, end_date)\n",
    "output_directory = '../data/input/'\n",
    "data_ingestion = datetime.now().strftime('%Y-%m-%d %H:%M:%S')\n",
    "now = datetime.now().strftime('%Y%m%d_%H%M%S.%f')\n",
    "\n",
    "def save_data(data, output_directory, data_ingestion, now):\n",
    "    cards_data = data.get(\"data\", [])\n",
    "    for card in cards_data:\n",
    "        card['date_ingestion'] = data_ingestion\n",
    "\n",
    "    filename = os.path.join(output_directory, f'{now}.json')\n",
    "    with open(filename, \"w\") as open_file:\n",
    "        json.dump(cards_data, open_file, indent=4)\n",
    "\n",
    "save_data(data, output_directory, data_ingestion, now)"
   ]
  },
  {
   "cell_type": "markdown",
   "metadata": {},
   "source": [
    "## Building the spark session"
   ]
  },
  {
   "cell_type": "code",
   "execution_count": 5,
   "metadata": {},
   "outputs": [
    {
     "name": "stderr",
     "output_type": "stream",
     "text": [
      "Setting default log level to \"WARN\".\n",
      "To adjust logging level use sc.setLogLevel(newLevel). For SparkR, use setLogLevel(newLevel).\n",
      "24/08/05 18:27:12 WARN NativeCodeLoader: Unable to load native-hadoop library for your platform... using builtin-java classes where applicable\n"
     ]
    }
   ],
   "source": [
    "spark = SparkSession.builder \\\n",
    "    .appName(\"yugioh-api\") \\\n",
    "    .master(\"spark://spark-master:7077\") \\\n",
    "    .getOrCreate()"
   ]
  },
  {
   "cell_type": "markdown",
   "metadata": {},
   "source": [
    "## Extracting and analyzing"
   ]
  },
  {
   "cell_type": "code",
   "execution_count": 14,
   "metadata": {},
   "outputs": [],
   "source": [
    "schema = StructType([\n",
    "    StructField(\"archetype\", StringType(), True),\n",
    "    StructField(\"atk\", IntegerType(), True),\n",
    "    StructField(\"attribute\", StringType(), True),\n",
    "    StructField(\"banlist_info\", StructType([\n",
    "        StructField(\"ban_goat\", StringType(), True),\n",
    "        StructField(\"ban_ocg\", StringType(), True),\n",
    "        StructField(\"ban_tcg\", StringType(), True)\n",
    "    ]), True),\n",
    "    StructField(\"card_images\", ArrayType(StructType([\n",
    "        StructField(\"id\", IntegerType(), True),\n",
    "        StructField(\"image_url\", StringType(), True),\n",
    "        StructField(\"image_url_cropped\", StringType(), True),\n",
    "        StructField(\"image_url_small\", StringType(), True)\n",
    "    ])), True),\n",
    "    StructField(\"card_prices\", ArrayType(StructType([\n",
    "        StructField(\"amazon_price\", StringType(), True),\n",
    "        StructField(\"cardmarket_price\", StringType(), True),\n",
    "        StructField(\"coolstuffinc_price\", StringType(), True),\n",
    "        StructField(\"ebay_price\", StringType(), True),\n",
    "        StructField(\"tcgplayer_price\", StringType(), True)\n",
    "    ])), True),\n",
    "    StructField(\"card_sets\", ArrayType(StructType([\n",
    "        StructField(\"set_code\", StringType(), True),\n",
    "        StructField(\"set_name\", StringType(), True),\n",
    "        StructField(\"set_price\", StringType(), True),\n",
    "        StructField(\"set_rarity\", StringType(), True),\n",
    "        StructField(\"set_rarity_code\", StringType(), True)\n",
    "    ])), True),\n",
    "    StructField(\"date_ingestion\", TimestampType(), True),  \n",
    "    StructField(\"def\", IntegerType(), True),\n",
    "    StructField(\"desc\", StringType(), True),\n",
    "    StructField(\"frameType\", StringType(), True),\n",
    "    StructField(\"id\", IntegerType(), True),\n",
    "    StructField(\"level\", IntegerType(), True),\n",
    "    StructField(\"linkmarkers\", ArrayType(StringType()), True),\n",
    "    StructField(\"linkval\", IntegerType(), True),\n",
    "    StructField(\"monster_desc\", StringType(), True),\n",
    "    StructField(\"name\", StringType(), True),\n",
    "    StructField(\"pend_desc\", StringType(), True),\n",
    "    StructField(\"race\", StringType(), True),\n",
    "    StructField(\"scale\", IntegerType(), True),\n",
    "    StructField(\"type\", StringType(), True),\n",
    "    StructField(\"ygoprodeck_url\", StringType(), True)\n",
    "])"
   ]
  },
  {
   "cell_type": "code",
   "execution_count": 15,
   "metadata": {},
   "outputs": [],
   "source": [
    "file_path_json = \"/opt/spark/yugioh-api-with-spark/data/input\"\n",
    "\n",
    "df = spark.read \\\n",
    "    .schema(schema) \\\n",
    "    .option('multiline', 'true') \\\n",
    "    .json(file_path_json)"
   ]
  },
  {
   "cell_type": "code",
   "execution_count": 16,
   "metadata": {},
   "outputs": [
    {
     "name": "stderr",
     "output_type": "stream",
     "text": [
      "[Stage 4:>                                                          (0 + 1) / 1]\r"
     ]
    },
    {
     "name": "stdout",
     "output_type": "stream",
     "text": [
      "+---------+----+---------+------------+--------------------+--------------------+--------------------+-------------------+----+--------------------+---------+--------+-----+-----------+-------+------------+--------------------+---------+----------+-----+----------+--------------------+\n",
      "|archetype| atk|attribute|banlist_info|         card_images|         card_prices|           card_sets|     date_ingestion| def|                desc|frameType|      id|level|linkmarkers|linkval|monster_desc|                name|pend_desc|      race|scale|      type|      ygoprodeck_url|\n",
      "+---------+----+---------+------------+--------------------+--------------------+--------------------+-------------------+----+--------------------+---------+--------+-----+-----------+-------+------------+--------------------+---------+----------+-----+----------+--------------------+\n",
      "|    Alien|NULL|     NULL|        NULL|[{34541863, https...|[{24.45, 0.09, 0....|[{FOTB-EN043, For...|2024-08-05 18:25:50|NULL|During each of yo...|    spell|34541863| NULL|       NULL|   NULL|        NULL|\"A\" Cell Breeding...|     NULL|Continuous| NULL|Spell Card|https://ygoprodec...|\n",
      "+---------+----+---------+------------+--------------------+--------------------+--------------------+-------------------+----+--------------------+---------+--------+-----+-----------+-------+------------+--------------------+---------+----------+-----+----------+--------------------+\n",
      "only showing top 1 row\n",
      "\n"
     ]
    },
    {
     "name": "stderr",
     "output_type": "stream",
     "text": [
      "                                                                                \r"
     ]
    }
   ],
   "source": [
    "df.show(1)"
   ]
  },
  {
   "cell_type": "markdown",
   "metadata": {},
   "source": [
    "## Transforming data"
   ]
  },
  {
   "cell_type": "code",
   "execution_count": 17,
   "metadata": {},
   "outputs": [],
   "source": [
    "df.createOrReplaceTempView('yugioh')"
   ]
  },
  {
   "cell_type": "code",
   "execution_count": 18,
   "metadata": {},
   "outputs": [
    {
     "name": "stderr",
     "output_type": "stream",
     "text": [
      "24/08/05 18:34:55 WARN SparkStringUtils: Truncated the string representation of a plan since it was too large. This behavior can be adjusted by setting 'spark.sql.debug.maxToStringFields'.\n",
      "                                                                                \r"
     ]
    },
    {
     "data": {
      "text/html": [
       "<table><tr style=\"border-bottom: 1px solid\"><td style=\"font-weight: bold\">id_card</td><td style=\"font-weight: bold\">name_card</td><td style=\"font-weight: bold\">type_card</td><td style=\"font-weight: bold\">frame_type_card</td><td style=\"font-weight: bold\">race_card</td><td style=\"font-weight: bold\">archetype_card</td><td style=\"font-weight: bold\">scale_card</td><td style=\"font-weight: bold\">description_card</td><td style=\"font-weight: bold\">atk_card</td><td style=\"font-weight: bold\">def_card</td><td style=\"font-weight: bold\">level_card</td><td style=\"font-weight: bold\">card_set_name_card</td><td style=\"font-weight: bold\">card_set_code_card</td><td style=\"font-weight: bold\">card_set_rarity_card</td><td style=\"font-weight: bold\">card_set_rarity_code_card</td><td style=\"font-weight: bold\">card_set_price_card</td><td style=\"font-weight: bold\">amazon_price_card</td><td style=\"font-weight: bold\">cardmarket_price_card</td><td style=\"font-weight: bold\">coolstuffinc_price_card</td><td style=\"font-weight: bold\">ebay_price_card</td><td style=\"font-weight: bold\">tcgplayer_price_card</td><td style=\"font-weight: bold\">image_url_card</td><td style=\"font-weight: bold\">image_url_cropped_card</td><td style=\"font-weight: bold\">image_url_small_card</td><td style=\"font-weight: bold\">ban_goat_card</td><td style=\"font-weight: bold\">ban_ocg_card</td><td style=\"font-weight: bold\">ban_tcg_card</td><td style=\"font-weight: bold\">date_ingestion</td><td style=\"font-weight: bold\">ygoprodeck_url</td></tr><tr><td>34541863</td><td>&quot;A&quot; Cell Breeding Device</td><td>Spell Card</td><td>spell</td><td>Continuous</td><td>Alien</td><td>N/I</td><td>During each of your Standby Phases, put 1 A-Counter on 1 face-up monster your opponent controls.</td><td>0</td><td>0</td><td>0</td><td>Force of the Breaker</td><td>FOTB-EN043</td><td>Common</td><td>(C)</td><td>0</td><td>24.45</td><td>0.09</td><td>0.25</td><td>0.99</td><td>0.19</td><td>https://images.ygoprodeck.com/images/cards/34541863.jpg</td><td>https://images.ygoprodeck.com/images/cards_cropped/34541863.jpg</td><td>https://images.ygoprodeck.com/images/cards_small/34541863.jpg</td><td>N/I</td><td>N/I</td><td>N/I</td><td>2024-08-05 18:25:50</td><td>https://ygoprodeck.com/card/a-cell-breeding-device-9766</td></tr></table>"
      ],
      "text/plain": [
       "<IPython.core.display.HTML object>"
      ]
     },
     "execution_count": 18,
     "metadata": {},
     "output_type": "execute_result"
    }
   ],
   "source": [
    "%%sparksql\n",
    "\n",
    "SELECT \n",
    "    A.id id_card, \n",
    "    A.name name_card, \n",
    "    A.type type_card, \n",
    "    A.frameType frame_type_card,\n",
    "    A.race race_card,\n",
    "    IFNULL(A.archetype, 'N/I') archetype_card,\n",
    "    IFNULL(A.scale, 'N/I') scale_card,\n",
    "    A.desc description_card,\n",
    "    IFNULL(A.atk, 0) atk_card, \n",
    "    IFNULL(A.def, 0) def_card, \n",
    "    IFNULL(A.level, 0) level_card,\n",
    "    card_set.set_name card_set_name_card,\n",
    "    card_set.set_code card_set_code_card,\n",
    "    card_set.set_rarity card_set_rarity_card,\n",
    "    card_set.set_rarity_code card_set_rarity_code_card,\n",
    "    card_set.set_price card_set_price_card,\n",
    "    card_price.amazon_price amazon_price_card,\n",
    "    card_price.cardmarket_price cardmarket_price_card,\n",
    "    card_price.coolstuffinc_price coolstuffinc_price_card,\n",
    "    card_price.ebay_price ebay_price_card,\n",
    "    card_price.tcgplayer_price tcgplayer_price_card,\n",
    "    card_image.image_url image_url_card,\n",
    "    card_image.image_url_cropped image_url_cropped_card,\n",
    "    card_image.image_url_small image_url_small_card,\n",
    "    IFNULL(A.banlist_info.ban_goat, 'N/I') ban_goat_card,\n",
    "    IFNULL(A.banlist_info.ban_ocg, 'N/I') ban_ocg_card,\n",
    "    IFNULL(A.banlist_info.ban_tcg, 'N/I') ban_tcg_card,\n",
    "    A.date_ingestion,\n",
    "    A.ygoprodeck_url\n",
    "FROM yugioh A \n",
    "LATERAL VIEW explode(card_sets) card_set AS card_set\n",
    "LATERAL VIEW explode(card_prices) card_price AS card_price\n",
    "LATERAL VIEW explode(card_images) card_image as card_image\n",
    "WHERE 1=1 \n",
    "LIMIT 1"
   ]
  },
  {
   "cell_type": "code",
   "execution_count": 19,
   "metadata": {},
   "outputs": [],
   "source": [
    "result_df = spark.sql(\"\"\"\n",
    "SELECT \n",
    "    A.id id_card, \n",
    "    A.name name_card, \n",
    "    A.type type_card, \n",
    "    A.frameType frame_type_card,\n",
    "    A.race race_card,\n",
    "    IFNULL(A.archetype, 'N/I') archetype_card,\n",
    "    IFNULL(A.scale, 'N/I') scale_card,\n",
    "    A.desc description_card,\n",
    "    IFNULL(A.atk, 0) atk_card, \n",
    "    IFNULL(A.def, 0) def_card, \n",
    "    IFNULL(A.level, 0) level_card,\n",
    "    card_set.set_name card_set_name_card,\n",
    "    card_set.set_code card_set_code_card,\n",
    "    card_set.set_rarity card_set_rarity_card,\n",
    "    card_set.set_rarity_code card_set_rarity_code_card,\n",
    "    card_set.set_price card_set_price_card,\n",
    "    card_price.amazon_price amazon_price_card,\n",
    "    card_price.cardmarket_price cardmarket_price_card,\n",
    "    card_price.coolstuffinc_price coolstuffinc_price_card,\n",
    "    card_price.ebay_price ebay_price_card,\n",
    "    card_price.tcgplayer_price tcgplayer_price_card,\n",
    "    card_image.image_url image_url_card,\n",
    "    card_image.image_url_cropped image_url_cropped_card,\n",
    "    card_image.image_url_small image_url_small_card,\n",
    "    IFNULL(A.banlist_info.ban_goat, 'N/I') ban_goat_card,\n",
    "    IFNULL(A.banlist_info.ban_ocg, 'N/I') ban_ocg_card,\n",
    "    IFNULL(A.banlist_info.ban_tcg, 'N/I') ban_tcg_card,\n",
    "    A.date_ingestion,\n",
    "    A.ygoprodeck_url\n",
    "FROM yugioh A \n",
    "LATERAL VIEW explode(card_sets) card_set AS card_set\n",
    "LATERAL VIEW explode(card_prices) card_price AS card_price\n",
    "LATERAL VIEW explode(card_images) card_image as card_image\n",
    "WHERE 1=1 \n",
    "\"\"\")"
   ]
  },
  {
   "cell_type": "markdown",
   "metadata": {},
   "source": [
    "## Exporting data"
   ]
  },
  {
   "cell_type": "code",
   "execution_count": 59,
   "metadata": {},
   "outputs": [
    {
     "name": "stderr",
     "output_type": "stream",
     "text": [
      "                                                                                \r"
     ]
    }
   ],
   "source": [
    "output_path = '/opt/spark/yugioh-api-with-spark/data/output/yugioh_tcg/'\n",
    "result_df.write.partitionBy('type_card').mode('append').parquet(output_path)"
   ]
  },
  {
   "cell_type": "markdown",
   "metadata": {},
   "source": [
    "## Reading data"
   ]
  },
  {
   "cell_type": "code",
   "execution_count": 60,
   "metadata": {},
   "outputs": [],
   "source": [
    "file_path_parquet = '/opt/spark/yugioh-api-with-spark/data/output/yugioh_tcg'\n",
    "\n",
    "df_parquet = spark.read \\\n",
    "    .parquet(file_path_parquet)"
   ]
  },
  {
   "cell_type": "code",
   "execution_count": 61,
   "metadata": {},
   "outputs": [],
   "source": [
    "df_parquet.createOrReplaceTempView('yugiohtcg')"
   ]
  },
  {
   "cell_type": "code",
   "execution_count": 63,
   "metadata": {},
   "outputs": [
    {
     "data": {
      "text/html": [
       "<table><tr style=\"border-bottom: 1px solid\"><td style=\"font-weight: bold\">count(1)</td></tr><tr><td>39445</td></tr></table>"
      ],
      "text/plain": [
       "<IPython.core.display.HTML object>"
      ]
     },
     "execution_count": 63,
     "metadata": {},
     "output_type": "execute_result"
    }
   ],
   "source": [
    "%%sparksql\n",
    "\n",
    "SELECT COUNT(*) FROM yugiohtcg"
   ]
  },
  {
   "cell_type": "code",
   "execution_count": 64,
   "metadata": {},
   "outputs": [],
   "source": [
    "spark.stop()"
   ]
  }
 ],
 "metadata": {
  "kernelspec": {
   "display_name": "Python 3 (ipykernel)",
   "language": "python",
   "name": "python3"
  },
  "language_info": {
   "codemirror_mode": {
    "name": "ipython",
    "version": 3
   },
   "file_extension": ".py",
   "mimetype": "text/x-python",
   "name": "python",
   "nbconvert_exporter": "python",
   "pygments_lexer": "ipython3",
   "version": "3.11.9"
  }
 },
 "nbformat": 4,
 "nbformat_minor": 4
}
